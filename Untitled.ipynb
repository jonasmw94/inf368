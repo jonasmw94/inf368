{
 "cells": [
  {
   "cell_type": "code",
   "execution_count": 1,
   "metadata": {},
   "outputs": [
    {
     "name": "stderr",
     "output_type": "stream",
     "text": [
      "Using TensorFlow backend.\n"
     ]
    }
   ],
   "source": [
    "import numpy as np\n",
    "import keras\n",
    "import imageio\n",
    "\n",
    "def prepare_data(X: np.ndarray) -> np.ndarray:\n",
    "    \"\"\" Pad a 28x28 picture into a 32x32 picture \"\"\"\n",
    "    X_new = np.pad(X, ((0, 0), (2, 2), (2, 2), (0, 0)), 'constant')\n",
    "    return X_new\n",
    "\n",
    "def parse_file(folder: str, path: str, labels: dict) -> list:\n",
    "    ids = []\n",
    "\n",
    "    for line in open(path, \"r\"):\n",
    "        label, _ = line.strip().split(\"/\")\n",
    "        img_full_path = \"data/\" + folder + \"/\" + line.strip()\n",
    "        ids.append(img_full_path)\n",
    "        labels[img_full_path] = int(label)\n",
    "\n",
    "    return ids\n",
    "\n",
    "def generate_generator_objects() -> tuple:\n",
    "    labels = { }\n",
    "    X_train_ids = parse_file(\"train\", \"train_images_paths\", labels)\n",
    "    X_val_ids = parse_file(\"val\", \"val_images_paths\", labels)\n",
    "    X_test_ids = parse_file(\"test\", \"test_images_paths\", labels)\n",
    "\n",
    "    return ({ \"train\": X_train_ids, \"validation\": X_val_ids, \"test\": X_test_ids }, labels)\n",
    "\n",
    "class DataGenerator(keras.utils.Sequence):\n",
    "    'Generates data for Keras'\n",
    "    def __init__(self, list_IDs, labels, batch_size=32, dim=(32,32,32), n_channels=1,\n",
    "                 n_classes=10, shuffle=True):\n",
    "        'Initialization'\n",
    "        self.dim = dim\n",
    "        self.batch_size = batch_size\n",
    "        self.labels = labels\n",
    "        self.list_IDs = list_IDs\n",
    "        self.n_channels = n_channels\n",
    "        self.n_classes = n_classes\n",
    "        self.shuffle = shuffle\n",
    "        self.on_epoch_end()\n",
    "\n",
    "    def __len__(self):\n",
    "        'Denotes the number of batches per epoch'\n",
    "        return int(np.floor(len(self.list_IDs) / self.batch_size))\n",
    "\n",
    "    def __getitem__(self, index):\n",
    "        'Generate one batch of data'\n",
    "        # Generate indexes of the batch\n",
    "        indexes = self.indexes[index*self.batch_size:(index+1)*self.batch_size]\n",
    "\n",
    "        # Find list of IDs\n",
    "        list_IDs_temp = [self.list_IDs[k] for k in indexes]\n",
    "\n",
    "        # Generate data\n",
    "        X, y = self.__data_generation(list_IDs_temp)\n",
    "\n",
    "        return X, y\n",
    "\n",
    "    def on_epoch_end(self):\n",
    "        'Updates indexes after each epoch'\n",
    "        self.indexes = np.arange(len(self.list_IDs))\n",
    "        if self.shuffle == True:\n",
    "            np.random.shuffle(self.indexes)\n",
    "\n",
    "    def __data_generation(self, list_IDs_temp):\n",
    "        'Generates data containing batch_size samples' # X : (n_samples, *dim, n_channels)\n",
    "        # Initialization\n",
    "        X = np.empty((self.batch_size, *self.dim, self.n_channels))\n",
    "        y = np.empty((self.batch_size), dtype=int)\n",
    "\n",
    "        # Generate data\n",
    "        for i, ID in enumerate(list_IDs_temp):\n",
    "            # Store sample\n",
    "            img = np.array([imageio.imread(ID)]).T\n",
    "            img = prepare_data(np.array([img]))\n",
    "            X[i,] = img[0]\n",
    "\n",
    "            # Store class\n",
    "            y[i] = self.labels[ID]\n",
    "\n",
    "        return X, keras.utils.to_categorical(y, num_classes=self.n_classes)"
   ]
  },
  {
   "cell_type": "code",
   "execution_count": null,
   "metadata": {},
   "outputs": [
    {
     "name": "stdout",
     "output_type": "stream",
     "text": [
      "Model: \"sequential_1\"\n",
      "_________________________________________________________________\n",
      "Layer (type)                 Output Shape              Param #   \n",
      "=================================================================\n",
      "conv2d_1 (Conv2D)            (None, 30, 30, 6)         60        \n",
      "_________________________________________________________________\n",
      "average_pooling2d_1 (Average (None, 15, 15, 6)         0         \n",
      "_________________________________________________________________\n",
      "conv2d_2 (Conv2D)            (None, 13, 13, 16)        880       \n",
      "_________________________________________________________________\n",
      "average_pooling2d_2 (Average (None, 6, 6, 16)          0         \n",
      "_________________________________________________________________\n",
      "flatten_1 (Flatten)          (None, 576)               0         \n",
      "_________________________________________________________________\n",
      "dense_1 (Dense)              (None, 120)               69240     \n",
      "_________________________________________________________________\n",
      "dense_2 (Dense)              (None, 84)                10164     \n",
      "_________________________________________________________________\n",
      "dense_3 (Dense)              (None, 10)                850       \n",
      "=================================================================\n",
      "Total params: 81,194\n",
      "Trainable params: 81,194\n",
      "Non-trainable params: 0\n",
      "_________________________________________________________________\n",
      "None\n",
      "Epoch 1/5\n",
      "218/218 [==============================] - 19s 87ms/step - loss: 0.3928 - accuracy: 0.8984 - val_loss: 0.1227 - val_accuracy: 0.9653\n",
      "Epoch 2/5\n",
      "218/218 [==============================] - 18s 83ms/step - loss: 0.0777 - accuracy: 0.9761 - val_loss: 0.1153 - val_accuracy: 0.9740\n",
      "Epoch 3/5\n",
      "218/218 [==============================] - 18s 83ms/step - loss: 0.0539 - accuracy: 0.9834 - val_loss: 0.0451 - val_accuracy: 0.9813\n",
      "Epoch 4/5\n",
      "218/218 [==============================] - 18s 83ms/step - loss: 0.0391 - accuracy: 0.9875 - val_loss: 0.0263 - val_accuracy: 0.9810\n",
      "Epoch 5/5\n",
      "218/218 [==============================] - 18s 83ms/step - loss: 0.0336 - accuracy: 0.9891 - val_loss: 0.0907 - val_accuracy: 0.9810\n"
     ]
    },
    {
     "data": {
      "text/plain": [
       "<Figure size 640x480 with 1 Axes>"
      ]
     },
     "metadata": {},
     "output_type": "display_data"
    },
    {
     "data": {
      "text/plain": [
       "<Figure size 640x480 with 1 Axes>"
      ]
     },
     "metadata": {},
     "output_type": "display_data"
    },
    {
     "name": "stdout",
     "output_type": "stream",
     "text": [
      "Model: \"sequential_2\"\n",
      "_________________________________________________________________\n",
      "Layer (type)                 Output Shape              Param #   \n",
      "=================================================================\n",
      "conv2d_3 (Conv2D)            (None, 30, 30, 6)         60        \n",
      "_________________________________________________________________\n",
      "average_pooling2d_3 (Average (None, 15, 15, 6)         0         \n",
      "_________________________________________________________________\n",
      "conv2d_4 (Conv2D)            (None, 13, 13, 16)        880       \n",
      "_________________________________________________________________\n",
      "average_pooling2d_4 (Average (None, 6, 6, 16)          0         \n",
      "_________________________________________________________________\n",
      "flatten_2 (Flatten)          (None, 576)               0         \n",
      "_________________________________________________________________\n",
      "dense_4 (Dense)              (None, 120)               69240     \n",
      "_________________________________________________________________\n",
      "dense_5 (Dense)              (None, 84)                10164     \n",
      "_________________________________________________________________\n",
      "dense_6 (Dense)              (None, 10)                850       \n",
      "=================================================================\n",
      "Total params: 81,194\n",
      "Trainable params: 81,194\n",
      "Non-trainable params: 0\n",
      "_________________________________________________________________\n",
      "None\n",
      "Epoch 1/5\n",
      "218/218 [==============================] - 19s 88ms/step - loss: 0.8452 - accuracy: 0.8875 - val_loss: 0.3959 - val_accuracy: 0.9552\n",
      "Epoch 2/5\n",
      "218/218 [==============================] - 18s 83ms/step - loss: 0.3241 - accuracy: 0.9721 - val_loss: 0.3099 - val_accuracy: 0.9654\n",
      "Epoch 3/5\n",
      "218/218 [==============================] - 18s 84ms/step - loss: 0.2701 - accuracy: 0.9807 - val_loss: 0.2706 - val_accuracy: 0.9747\n",
      "Epoch 4/5\n",
      "218/218 [==============================] - 18s 83ms/step - loss: 0.2376 - accuracy: 0.9846 - val_loss: 0.2399 - val_accuracy: 0.9760\n",
      "Epoch 5/5\n",
      "218/218 [==============================] - 18s 83ms/step - loss: 0.2133 - accuracy: 0.9871 - val_loss: 0.2278 - val_accuracy: 0.9769\n"
     ]
    },
    {
     "data": {
      "text/plain": [
       "<Figure size 640x480 with 1 Axes>"
      ]
     },
     "metadata": {},
     "output_type": "display_data"
    },
    {
     "data": {
      "text/plain": [
       "<Figure size 640x480 with 1 Axes>"
      ]
     },
     "metadata": {},
     "output_type": "display_data"
    },
    {
     "name": "stdout",
     "output_type": "stream",
     "text": [
      "Model: \"sequential_3\"\n",
      "_________________________________________________________________\n",
      "Layer (type)                 Output Shape              Param #   \n",
      "=================================================================\n",
      "conv2d_5 (Conv2D)            (None, 30, 30, 6)         60        \n",
      "_________________________________________________________________\n",
      "average_pooling2d_5 (Average (None, 15, 15, 6)         0         \n",
      "_________________________________________________________________\n",
      "conv2d_6 (Conv2D)            (None, 13, 13, 16)        880       \n",
      "_________________________________________________________________\n",
      "average_pooling2d_6 (Average (None, 6, 6, 16)          0         \n",
      "_________________________________________________________________\n",
      "flatten_3 (Flatten)          (None, 576)               0         \n",
      "_________________________________________________________________\n",
      "dense_7 (Dense)              (None, 120)               69240     \n",
      "_________________________________________________________________\n",
      "dense_8 (Dense)              (None, 84)                10164     \n",
      "_________________________________________________________________\n",
      "dense_9 (Dense)              (None, 10)                850       \n",
      "=================================================================\n",
      "Total params: 81,194\n",
      "Trainable params: 81,194\n",
      "Non-trainable params: 0\n",
      "_________________________________________________________________\n",
      "None\n",
      "Epoch 1/5\n",
      "218/218 [==============================] - 19s 86ms/step - loss: 2.6808 - accuracy: 0.8755 - val_loss: 1.6096 - val_accuracy: 0.9549\n",
      "Epoch 2/5\n",
      "218/218 [==============================] - 18s 83ms/step - loss: 1.3294 - accuracy: 0.9666 - val_loss: 1.0725 - val_accuracy: 0.9676\n",
      "Epoch 3/5\n",
      "218/218 [==============================] - 18s 83ms/step - loss: 0.9237 - accuracy: 0.9746 - val_loss: 0.7818 - val_accuracy: 0.9729\n",
      "Epoch 4/5\n",
      "218/218 [==============================] - 18s 83ms/step - loss: 0.6825 - accuracy: 0.9784 - val_loss: 0.6494 - val_accuracy: 0.9719\n",
      "Epoch 5/5\n",
      "218/218 [==============================] - 18s 83ms/step - loss: 0.5314 - accuracy: 0.9799 - val_loss: 0.4814 - val_accuracy: 0.9761\n"
     ]
    },
    {
     "data": {
      "text/plain": [
       "<Figure size 640x480 with 1 Axes>"
      ]
     },
     "metadata": {},
     "output_type": "display_data"
    },
    {
     "data": {
      "text/plain": [
       "<Figure size 640x480 with 1 Axes>"
      ]
     },
     "metadata": {},
     "output_type": "display_data"
    },
    {
     "name": "stdout",
     "output_type": "stream",
     "text": [
      "Model: \"sequential_4\"\n",
      "_________________________________________________________________\n",
      "Layer (type)                 Output Shape              Param #   \n",
      "=================================================================\n",
      "conv2d_7 (Conv2D)            (None, 30, 30, 6)         60        \n",
      "_________________________________________________________________\n",
      "average_pooling2d_7 (Average (None, 15, 15, 6)         0         \n",
      "_________________________________________________________________\n",
      "conv2d_8 (Conv2D)            (None, 13, 13, 16)        880       \n",
      "_________________________________________________________________\n",
      "average_pooling2d_8 (Average (None, 6, 6, 16)          0         \n",
      "_________________________________________________________________\n",
      "flatten_4 (Flatten)          (None, 576)               0         \n",
      "_________________________________________________________________\n",
      "dense_10 (Dense)             (None, 120)               69240     \n",
      "_________________________________________________________________\n",
      "dense_11 (Dense)             (None, 84)                10164     \n",
      "_________________________________________________________________\n",
      "dense_12 (Dense)             (None, 10)                850       \n",
      "=================================================================\n",
      "Total params: 81,194\n",
      "Trainable params: 81,194\n",
      "Non-trainable params: 0\n",
      "_________________________________________________________________\n",
      "None\n",
      "Epoch 1/5\n",
      "218/218 [==============================] - 19s 86ms/step - loss: 11.2829 - accuracy: 0.8904 - val_loss: 3.2731 - val_accuracy: 0.9466\n",
      "Epoch 2/5\n",
      "218/218 [==============================] - 18s 83ms/step - loss: 2.0011 - accuracy: 0.9439 - val_loss: 1.2598 - val_accuracy: 0.9431\n",
      "Epoch 3/5\n",
      "218/218 [==============================] - 18s 83ms/step - loss: 1.0260 - accuracy: 0.9438 - val_loss: 0.8893 - val_accuracy: 0.9313\n",
      "Epoch 4/5\n",
      "218/218 [==============================] - 18s 83ms/step - loss: 0.7908 - accuracy: 0.9427 - val_loss: 0.7673 - val_accuracy: 0.9348\n",
      "Epoch 5/5\n",
      "218/218 [==============================] - 18s 83ms/step - loss: 0.7086 - accuracy: 0.9409 - val_loss: 0.6989 - val_accuracy: 0.9408\n"
     ]
    },
    {
     "data": {
      "text/plain": [
       "<Figure size 640x480 with 1 Axes>"
      ]
     },
     "metadata": {},
     "output_type": "display_data"
    },
    {
     "data": {
      "text/plain": [
       "<Figure size 640x480 with 1 Axes>"
      ]
     },
     "metadata": {},
     "output_type": "display_data"
    },
    {
     "name": "stdout",
     "output_type": "stream",
     "text": [
      "Model: \"sequential_5\"\n",
      "_________________________________________________________________\n",
      "Layer (type)                 Output Shape              Param #   \n",
      "=================================================================\n",
      "conv2d_9 (Conv2D)            (None, 30, 30, 6)         60        \n",
      "_________________________________________________________________\n",
      "average_pooling2d_9 (Average (None, 15, 15, 6)         0         \n",
      "_________________________________________________________________\n",
      "conv2d_10 (Conv2D)           (None, 13, 13, 16)        880       \n",
      "_________________________________________________________________\n",
      "average_pooling2d_10 (Averag (None, 6, 6, 16)          0         \n",
      "_________________________________________________________________\n",
      "flatten_5 (Flatten)          (None, 576)               0         \n",
      "_________________________________________________________________\n",
      "dense_13 (Dense)             (None, 120)               69240     \n",
      "_________________________________________________________________\n",
      "dense_14 (Dense)             (None, 84)                10164     \n",
      "_________________________________________________________________\n",
      "dense_15 (Dense)             (None, 10)                850       \n",
      "=================================================================\n",
      "Total params: 81,194\n",
      "Trainable params: 81,194\n",
      "Non-trainable params: 0\n",
      "_________________________________________________________________\n",
      "None\n",
      "Epoch 1/5\n",
      "218/218 [==============================] - 19s 87ms/step - loss: 65.9686 - accuracy: 0.8057 - val_loss: 5.9513 - val_accuracy: 0.8226\n",
      "Epoch 2/5\n",
      "218/218 [==============================] - 18s 83ms/step - loss: 3.5741 - accuracy: 0.7954 - val_loss: 2.7983 - val_accuracy: 0.7370\n",
      "Epoch 3/5\n",
      "218/218 [==============================] - 18s 84ms/step - loss: 2.5462 - accuracy: 0.7399 - val_loss: 2.3892 - val_accuracy: 0.7088\n",
      "Epoch 4/5\n",
      "218/218 [==============================] - 18s 82ms/step - loss: 2.4143 - accuracy: 0.7079 - val_loss: 2.4072 - val_accuracy: 0.7034\n",
      "Epoch 5/5\n",
      "218/218 [==============================] - 18s 83ms/step - loss: 2.3812 - accuracy: 0.7064 - val_loss: 2.4406 - val_accuracy: 0.7005\n"
     ]
    },
    {
     "data": {
      "text/plain": [
       "<Figure size 640x480 with 1 Axes>"
      ]
     },
     "metadata": {},
     "output_type": "display_data"
    },
    {
     "data": {
      "text/plain": [
       "<Figure size 640x480 with 1 Axes>"
      ]
     },
     "metadata": {},
     "output_type": "display_data"
    },
    {
     "name": "stdout",
     "output_type": "stream",
     "text": [
      "Model: \"sequential_6\"\n",
      "_________________________________________________________________\n",
      "Layer (type)                 Output Shape              Param #   \n",
      "=================================================================\n",
      "conv2d_11 (Conv2D)           (None, 30, 30, 6)         60        \n",
      "_________________________________________________________________\n",
      "average_pooling2d_11 (Averag (None, 15, 15, 6)         0         \n",
      "_________________________________________________________________\n",
      "conv2d_12 (Conv2D)           (None, 13, 13, 16)        880       \n",
      "_________________________________________________________________\n",
      "average_pooling2d_12 (Averag (None, 6, 6, 16)          0         \n",
      "_________________________________________________________________\n",
      "flatten_6 (Flatten)          (None, 576)               0         \n",
      "_________________________________________________________________\n",
      "dense_16 (Dense)             (None, 120)               69240     \n",
      "_________________________________________________________________\n",
      "dense_17 (Dense)             (None, 84)                10164     \n",
      "_________________________________________________________________\n",
      "dense_18 (Dense)             (None, 10)                850       \n",
      "=================================================================\n",
      "Total params: 81,194\n",
      "Trainable params: 81,194\n",
      "Non-trainable params: 0\n",
      "_________________________________________________________________\n",
      "None\n",
      "Epoch 1/5\n",
      "218/218 [==============================] - 19s 86ms/step - loss: 2.0080 - accuracy: 0.3297 - val_loss: 1.0794 - val_accuracy: 0.7328\n",
      "Epoch 2/5\n",
      "218/218 [==============================] - 18s 83ms/step - loss: 0.6259 - accuracy: 0.8273 - val_loss: 0.4236 - val_accuracy: 0.8707\n",
      "Epoch 3/5\n",
      "218/218 [==============================] - 18s 83ms/step - loss: 0.3692 - accuracy: 0.8908 - val_loss: 0.3140 - val_accuracy: 0.8983\n",
      "Epoch 4/5\n",
      "218/218 [==============================] - 18s 82ms/step - loss: 0.2939 - accuracy: 0.9116 - val_loss: 0.2889 - val_accuracy: 0.9194\n",
      "Epoch 5/5\n",
      "218/218 [==============================] - 18s 83ms/step - loss: 0.2457 - accuracy: 0.9252 - val_loss: 0.2304 - val_accuracy: 0.9278\n"
     ]
    },
    {
     "data": {
      "text/plain": [
       "<Figure size 640x480 with 1 Axes>"
      ]
     },
     "metadata": {},
     "output_type": "display_data"
    },
    {
     "data": {
      "text/plain": [
       "<Figure size 640x480 with 1 Axes>"
      ]
     },
     "metadata": {},
     "output_type": "display_data"
    },
    {
     "name": "stdout",
     "output_type": "stream",
     "text": [
      "Model: \"sequential_7\"\n",
      "_________________________________________________________________\n",
      "Layer (type)                 Output Shape              Param #   \n",
      "=================================================================\n",
      "conv2d_13 (Conv2D)           (None, 30, 30, 6)         60        \n",
      "_________________________________________________________________\n",
      "average_pooling2d_13 (Averag (None, 15, 15, 6)         0         \n",
      "_________________________________________________________________\n",
      "conv2d_14 (Conv2D)           (None, 13, 13, 16)        880       \n",
      "_________________________________________________________________\n",
      "average_pooling2d_14 (Averag (None, 6, 6, 16)          0         \n",
      "_________________________________________________________________\n",
      "flatten_7 (Flatten)          (None, 576)               0         \n",
      "_________________________________________________________________\n",
      "dense_19 (Dense)             (None, 120)               69240     \n",
      "_________________________________________________________________\n",
      "dense_20 (Dense)             (None, 84)                10164     \n",
      "_________________________________________________________________\n",
      "dense_21 (Dense)             (None, 10)                850       \n",
      "=================================================================\n",
      "Total params: 81,194\n",
      "Trainable params: 81,194\n",
      "Non-trainable params: 0\n",
      "_________________________________________________________________\n",
      "None\n",
      "Epoch 1/5\n",
      "218/218 [==============================] - 19s 86ms/step - loss: 2.0647 - accuracy: 0.4203 - val_loss: 1.2602 - val_accuracy: 0.7516\n",
      "Epoch 2/5\n",
      "218/218 [==============================] - 18s 83ms/step - loss: 1.0268 - accuracy: 0.8149 - val_loss: 0.9668 - val_accuracy: 0.8368\n",
      "Epoch 3/5\n",
      "218/218 [==============================] - 18s 83ms/step - loss: 0.8609 - accuracy: 0.8598 - val_loss: 0.7945 - val_accuracy: 0.8644\n",
      "Epoch 4/5\n",
      "218/218 [==============================] - 18s 83ms/step - loss: 0.8036 - accuracy: 0.8742 - val_loss: 0.7575 - val_accuracy: 0.8737\n",
      "Epoch 5/5\n",
      "218/218 [==============================] - 18s 83ms/step - loss: 0.7741 - accuracy: 0.8798 - val_loss: 0.7076 - val_accuracy: 0.8766\n"
     ]
    },
    {
     "data": {
      "text/plain": [
       "<Figure size 640x480 with 1 Axes>"
      ]
     },
     "metadata": {},
     "output_type": "display_data"
    },
    {
     "data": {
      "text/plain": [
       "<Figure size 640x480 with 1 Axes>"
      ]
     },
     "metadata": {},
     "output_type": "display_data"
    },
    {
     "name": "stdout",
     "output_type": "stream",
     "text": [
      "Model: \"sequential_8\"\n",
      "_________________________________________________________________\n",
      "Layer (type)                 Output Shape              Param #   \n",
      "=================================================================\n",
      "conv2d_15 (Conv2D)           (None, 30, 30, 6)         60        \n",
      "_________________________________________________________________\n",
      "average_pooling2d_15 (Averag (None, 15, 15, 6)         0         \n",
      "_________________________________________________________________\n",
      "conv2d_16 (Conv2D)           (None, 13, 13, 16)        880       \n",
      "_________________________________________________________________\n",
      "average_pooling2d_16 (Averag (None, 6, 6, 16)          0         \n",
      "_________________________________________________________________\n",
      "flatten_8 (Flatten)          (None, 576)               0         \n",
      "_________________________________________________________________\n",
      "dense_22 (Dense)             (None, 120)               69240     \n",
      "_________________________________________________________________\n",
      "dense_23 (Dense)             (None, 84)                10164     \n",
      "_________________________________________________________________\n",
      "dense_24 (Dense)             (None, 10)                850       \n",
      "=================================================================\n",
      "Total params: 81,194\n",
      "Trainable params: 81,194\n",
      "Non-trainable params: 0\n",
      "_________________________________________________________________\n",
      "None\n",
      "Epoch 1/5\n",
      "218/218 [==============================] - 19s 86ms/step - loss: 2.9758 - accuracy: 0.1077 - val_loss: 2.4039 - val_accuracy: 0.1042\n",
      "Epoch 2/5\n",
      "218/218 [==============================] - 18s 83ms/step - loss: 2.3626 - accuracy: 0.1061 - val_loss: 2.3389 - val_accuracy: 0.0995\n",
      "Epoch 3/5\n",
      "218/218 [==============================] - 18s 83ms/step - loss: 2.3268 - accuracy: 0.1059 - val_loss: 2.3193 - val_accuracy: 0.1001\n",
      "Epoch 4/5\n",
      "218/218 [==============================] - 18s 83ms/step - loss: 2.3131 - accuracy: 0.1086 - val_loss: 2.3044 - val_accuracy: 0.1126\n",
      "Epoch 5/5\n",
      "218/218 [==============================] - 18s 83ms/step - loss: 2.3072 - accuracy: 0.1071 - val_loss: 2.2999 - val_accuracy: 0.1126\n"
     ]
    },
    {
     "data": {
      "text/plain": [
       "<Figure size 640x480 with 1 Axes>"
      ]
     },
     "metadata": {},
     "output_type": "display_data"
    },
    {
     "data": {
      "text/plain": [
       "<Figure size 640x480 with 1 Axes>"
      ]
     },
     "metadata": {},
     "output_type": "display_data"
    },
    {
     "name": "stdout",
     "output_type": "stream",
     "text": [
      "Model: \"sequential_9\"\n",
      "_________________________________________________________________\n",
      "Layer (type)                 Output Shape              Param #   \n",
      "=================================================================\n",
      "conv2d_17 (Conv2D)           (None, 30, 30, 6)         60        \n",
      "_________________________________________________________________\n",
      "average_pooling2d_17 (Averag (None, 15, 15, 6)         0         \n",
      "_________________________________________________________________\n",
      "conv2d_18 (Conv2D)           (None, 13, 13, 16)        880       \n",
      "_________________________________________________________________\n",
      "average_pooling2d_18 (Averag (None, 6, 6, 16)          0         \n",
      "_________________________________________________________________\n",
      "flatten_9 (Flatten)          (None, 576)               0         \n",
      "_________________________________________________________________\n",
      "dense_25 (Dense)             (None, 120)               69240     \n",
      "_________________________________________________________________\n",
      "dense_26 (Dense)             (None, 84)                10164     \n",
      "_________________________________________________________________\n",
      "dense_27 (Dense)             (None, 10)                850       \n",
      "=================================================================\n",
      "Total params: 81,194\n",
      "Trainable params: 81,194\n",
      "Non-trainable params: 0\n",
      "_________________________________________________________________\n",
      "None\n",
      "Epoch 1/5\n",
      "218/218 [==============================] - 19s 86ms/step - loss: 8.0629 - accuracy: 0.1052 - val_loss: 2.5265 - val_accuracy: 0.1000\n",
      "Epoch 2/5\n",
      "218/218 [==============================] - 18s 83ms/step - loss: 2.3601 - accuracy: 0.1078 - val_loss: 2.3074 - val_accuracy: 0.1046\n",
      "Epoch 3/5\n",
      "218/218 [==============================] - 18s 83ms/step - loss: 2.3045 - accuracy: 0.1097 - val_loss: 2.3029 - val_accuracy: 0.1003\n",
      "Epoch 4/5\n",
      "218/218 [==============================] - 18s 82ms/step - loss: 2.3030 - accuracy: 0.1065 - val_loss: 2.2987 - val_accuracy: 0.1039\n",
      "Epoch 5/5\n",
      "218/218 [==============================] - 18s 83ms/step - loss: 2.3031 - accuracy: 0.1072 - val_loss: 2.3115 - val_accuracy: 0.1120\n"
     ]
    },
    {
     "data": {
      "text/plain": [
       "<Figure size 640x480 with 1 Axes>"
      ]
     },
     "metadata": {},
     "output_type": "display_data"
    },
    {
     "data": {
      "text/plain": [
       "<Figure size 640x480 with 1 Axes>"
      ]
     },
     "metadata": {},
     "output_type": "display_data"
    },
    {
     "name": "stdout",
     "output_type": "stream",
     "text": [
      "Model: \"sequential_10\"\n",
      "_________________________________________________________________\n",
      "Layer (type)                 Output Shape              Param #   \n",
      "=================================================================\n",
      "conv2d_19 (Conv2D)           (None, 30, 30, 6)         60        \n",
      "_________________________________________________________________\n",
      "average_pooling2d_19 (Averag (None, 15, 15, 6)         0         \n",
      "_________________________________________________________________\n",
      "conv2d_20 (Conv2D)           (None, 13, 13, 16)        880       \n",
      "_________________________________________________________________\n",
      "average_pooling2d_20 (Averag (None, 6, 6, 16)          0         \n",
      "_________________________________________________________________\n",
      "flatten_10 (Flatten)         (None, 576)               0         \n",
      "_________________________________________________________________\n",
      "dense_28 (Dense)             (None, 120)               69240     \n",
      "_________________________________________________________________\n",
      "dense_29 (Dense)             (None, 84)                10164     \n",
      "_________________________________________________________________\n",
      "dense_30 (Dense)             (None, 10)                850       \n",
      "=================================================================\n",
      "Total params: 81,194\n",
      "Trainable params: 81,194\n",
      "Non-trainable params: 0\n",
      "_________________________________________________________________\n",
      "None\n",
      "Epoch 1/5\n",
      "218/218 [==============================] - 19s 86ms/step - loss: 58.1150 - accuracy: 0.1041 - val_loss: 3.8645 - val_accuracy: 0.1042\n",
      "Epoch 2/5\n",
      "218/218 [==============================] - 18s 82ms/step - loss: 2.6372 - accuracy: 0.1102 - val_loss: 2.3149 - val_accuracy: 0.1126\n",
      "Epoch 3/5\n",
      "218/218 [==============================] - 18s 83ms/step - loss: 2.3069 - accuracy: 0.1126 - val_loss: 2.3083 - val_accuracy: 0.1123\n",
      "Epoch 4/5\n",
      "218/218 [==============================] - 18s 82ms/step - loss: 2.3027 - accuracy: 0.1125 - val_loss: 2.3020 - val_accuracy: 0.1134\n",
      "Epoch 5/5\n",
      "218/218 [==============================] - 18s 83ms/step - loss: 2.3023 - accuracy: 0.1125 - val_loss: 2.3076 - val_accuracy: 0.1124\n"
     ]
    },
    {
     "data": {
      "text/plain": [
       "<Figure size 640x480 with 1 Axes>"
      ]
     },
     "metadata": {},
     "output_type": "display_data"
    },
    {
     "data": {
      "text/plain": [
       "<Figure size 640x480 with 1 Axes>"
      ]
     },
     "metadata": {},
     "output_type": "display_data"
    },
    {
     "name": "stdout",
     "output_type": "stream",
     "text": [
      "Model: \"sequential_11\"\n",
      "_________________________________________________________________\n",
      "Layer (type)                 Output Shape              Param #   \n",
      "=================================================================\n",
      "conv2d_21 (Conv2D)           (None, 30, 30, 6)         60        \n",
      "_________________________________________________________________\n",
      "average_pooling2d_21 (Averag (None, 15, 15, 6)         0         \n",
      "_________________________________________________________________\n",
      "conv2d_22 (Conv2D)           (None, 13, 13, 16)        880       \n",
      "_________________________________________________________________\n",
      "average_pooling2d_22 (Averag (None, 6, 6, 16)          0         \n",
      "_________________________________________________________________\n",
      "flatten_11 (Flatten)         (None, 576)               0         \n",
      "_________________________________________________________________\n",
      "dense_31 (Dense)             (None, 120)               69240     \n",
      "_________________________________________________________________\n",
      "dense_32 (Dense)             (None, 84)                10164     \n",
      "_________________________________________________________________\n",
      "dense_33 (Dense)             (None, 10)                850       \n",
      "=================================================================\n",
      "Total params: 81,194\n",
      "Trainable params: 81,194\n",
      "Non-trainable params: 0\n",
      "_________________________________________________________________\n",
      "None\n",
      "Train on 60000 samples, validate on 10000 samples\n",
      "Epoch 1/5\n",
      "60000/60000 [==============================] - 6s 103us/step - loss: 0.5981 - accuracy: 0.8905 - val_loss: 0.1185 - val_accuracy: 0.9637\n",
      "Epoch 2/5\n",
      "49664/60000 [=======================>......] - ETA: 1s - loss: 0.0929 - accuracy: 0.9718"
     ]
    }
   ],
   "source": [
    "import seaborn as sns\n",
    "import matplotlib.pyplot as plt\n",
    "import numpy as np\n",
    "import pandas as pd\n",
    "from time import time\n",
    "\n",
    "from sklearn.model_selection import train_test_split\n",
    "import tensorflow as tf\n",
    "import keras\n",
    "import keras.layers as layers\n",
    "from keras.regularizers import l2\n",
    "from keras.models import Sequential\n",
    "from keras.preprocessing.image import ImageDataGenerator\n",
    "from keras.utils.np_utils import to_categorical\n",
    "from keras.callbacks import TensorBoard\n",
    "from keras.datasets import mnist\n",
    "from datagenerator import DataGenerator, generate_generator_objects\n",
    "\n",
    "# Load mnist data\n",
    "(X_train_raw, y_train_raw), (X_test, y_test) = mnist.load_data()\n",
    "X_train_raw = X_train_raw.reshape(len(X_train_raw), 28, 28, 1)\n",
    "\n",
    "# Prepare and set aside the test set\n",
    "X_test = X_test.reshape(len(X_test), 28, 28, 1)\n",
    "\n",
    "sns.set()\n",
    "\n",
    "params = {'dim': (32,32),\n",
    "          'batch_size': 256,\n",
    "          'n_classes': 10,\n",
    "          'n_channels': 1,\n",
    "          'shuffle': True}\n",
    "\n",
    "\n",
    "def generate_lenet5_model(activation='relu', kernel_regularizer=None) -> keras.Sequential:\n",
    "    # Architecture from picture at: https://www.researchgate.net/figure/Architecture-of-LeNet-5_fig3_313808170\n",
    "    model = keras.Sequential()\n",
    "\n",
    "    # C1: features maps\n",
    "    model.add(layers.Conv2D(filters=6, kernel_size=(3, 3), activation=activation, input_shape=(32, 32, 1), kernel_regularizer=kernel_regularizer))\n",
    "\n",
    "    # S2: Feature maps\n",
    "    model.add(layers.AveragePooling2D())\n",
    "\n",
    "    # C3: Feature maps\n",
    "    model.add(layers.Conv2D(filters=16, kernel_size=(3, 3), activation=activation, kernel_regularizer=kernel_regularizer))\n",
    "\n",
    "    # S4: Feature maps\n",
    "    model.add(layers.AveragePooling2D())\n",
    "    \n",
    "    model.add(layers.Flatten())\n",
    "\n",
    "    # C5: Layer\n",
    "    model.add(layers.Dense(units=120, activation=activation, kernel_regularizer=kernel_regularizer))\n",
    "\n",
    "    # F6: Layer\n",
    "    model.add(layers.Dense(units=84, activation=activation, kernel_regularizer=kernel_regularizer))\n",
    "\n",
    "    # 7: Output layer\n",
    "    model.add(layers.Dense(units=10, activation='softmax', kernel_regularizer=kernel_regularizer))\n",
    "    print(model.summary())\n",
    "\n",
    "    model.compile(loss=keras.losses.categorical_crossentropy, optimizer=keras.optimizers.Adam(), metrics=['accuracy'])\n",
    "\n",
    "    return model\n",
    "\n",
    "def prepare_data(X: np.ndarray) -> np.ndarray:\n",
    "    \"\"\" Pad a 28x28 picture into a 32x32 picture \"\"\"\n",
    "    X_new = np.pad(X, ((0, 0), (2, 2), (2, 2), (0, 0)), 'constant')\n",
    "    return X_new\n",
    "\n",
    "\"\"\" Given a keras model, train the model with given parameters \"\"\"\n",
    "def train_keras_model(X_train: np.ndarray, y_train: np.ndarray, model: keras.Sequential, EPOCHS: int, BATCH_SIZE: int, generator: bool) -> tf.keras.callbacks.History:\n",
    "    # Randomly split into a train and validation set\n",
    "    X_train, X_validation, y_train, y_validation = train_test_split(X_train, y_train, test_size=0.2)\n",
    "    X_train, X_validation = prepare_data(X_train), prepare_data(X_validation)\n",
    "\n",
    "    y_train, y_validation = to_categorical(y_train), to_categorical(y_validation)\n",
    "\n",
    "    if not generator:\n",
    "        return model.fit(X_train, y_train, batch_size=BATCH_SIZE, epochs=EPOCHS, validation_data=(X_validation, y_validation), shuffle=True)\n",
    "    (partition, labels) = generate_generator_objects()\n",
    "    train_generator = DataGenerator(partition['train'], labels, **params)\n",
    "    validation_generator = DataGenerator(partition['validation'], labels, **params)\n",
    "    \n",
    "    return model.fit_generator(train_generator, validation_data=validation_generator, epochs=EPOCHS)\n",
    "\n",
    "\"\"\" Plot loss from keras history object \"\"\"\n",
    "def plot_history_loss(history: tf.keras.callbacks.History, name: str):\n",
    "    plt.plot(history.history['loss'])\n",
    "    plt.plot(history.history['val_loss'])\n",
    "    plt.title('Loss per epoch for ' + name)\n",
    "    plt.ylabel('loss')\n",
    "    plt.xlabel('epoch')\n",
    "    plt.legend(['train', 'val'], loc='upper left')\n",
    "    plt.show()\n",
    "\n",
    "\"\"\" Plot accuracy from keras history object \"\"\"\n",
    "def plot_history_accuracy(history: tf.keras.callbacks.History, name: str):\n",
    "    plt.plot(history.history['accuracy'])\n",
    "    plt.plot(history.history['val_accuracy'])\n",
    "    plt.title('Accuracy per epoch for ' + name)\n",
    "    plt.ylabel('accuracy')\n",
    "    plt.xlabel('epoch')\n",
    "    plt.legend(['train', 'val'], loc='upper left')\n",
    "    plt.show()\n",
    "\n",
    "if __name__ == \"__main__\":\n",
    "    \"\"\" Hyper paramters \"\"\"\n",
    "    activation_functions = [(\"relu\", \"ReLU\"), (\"sigmoid\", \"Sigmoid\")]\n",
    "    kernel_regularizers = [(None, \"No regularization\"), (l2(0.001), \"L2: 0.001\"), (l2(0.01), \"L2: 0.01\"), (l2(0.1), \"L2: 0.1\"), (l2(1), \"L2: 1\")]\n",
    "\n",
    "    \"\"\" Training parameters \"\"\"\n",
    "    EPOCHS = 5\n",
    "    BATCH_SIZE = 256\n",
    "\n",
    "    \"\"\" Initialize paramters for selecting best hyper parameters \"\"\"\n",
    "    best_accuracy = 0\n",
    "    best_accuracy_params = None\n",
    "    best_accuracy_name = \"\"\n",
    "\n",
    "\n",
    "    \"\"\" For each pair of hyper paramters, try to do \n",
    "        a train/validation split, and train with training data,\n",
    "        and check performance with the validation data.\n",
    "        Selects the model with the highest accuracy \"\"\"\n",
    "    for (activation_func, activation_func_displayname) in activation_functions:\n",
    "        for (regularizer, regularizer_displayname) in kernel_regularizers:\n",
    "            model = generate_lenet5_model(activation=activation_func, kernel_regularizer=regularizer)\n",
    "            history = train_keras_model(X_train_raw, y_train_raw, model, EPOCHS, BATCH_SIZE, True)\n",
    "            name = \"%s - %s\" % (activation_func_displayname, regularizer_displayname)\n",
    "            plot_history_loss(history, name)\n",
    "            plot_history_accuracy(history, name)\n",
    "            if history.history[\"accuracy\"][-1] > best_accuracy:\n",
    "                best_accuracy = history.history[\"accuracy\"][-1]\n",
    "                best_accuracy_params = (activation_func, regularizer)\n",
    "                best_accuracy_name = name\n",
    "    \n",
    "    model = generate_lenet5_model(activation=best_accuracy_params[0], kernel_regularizer=best_accuracy_params[1])\n",
    "\n",
    "    \"\"\" Using the test set that we set aside earlier, evaluate performance on the selected best model \"\"\"\n",
    "    X_train, y_train = prepare_data(X_train_raw), to_categorical(y_train_raw)\n",
    "    X_test, y_test = prepare_data(X_test), to_categorical(y_test)\n",
    "    \n",
    "    history = model.fit(x=X_train, y=y_train, validation_data=(X_test, y_test),batch_size=BATCH_SIZE, epochs=EPOCHS)\n",
    "    print(\"Test accuracy: %r\" % (history.history[\"val_accuracy\"][-1]))\n",
    "    \n"
   ]
  },
  {
   "cell_type": "code",
   "execution_count": null,
   "metadata": {},
   "outputs": [],
   "source": []
  }
 ],
 "metadata": {
  "kernelspec": {
   "display_name": "Python 3",
   "language": "python",
   "name": "python3"
  },
  "language_info": {
   "codemirror_mode": {
    "name": "ipython",
    "version": 3
   },
   "file_extension": ".py",
   "mimetype": "text/x-python",
   "name": "python",
   "nbconvert_exporter": "python",
   "pygments_lexer": "ipython3",
   "version": "3.7.4"
  }
 },
 "nbformat": 4,
 "nbformat_minor": 2
}
